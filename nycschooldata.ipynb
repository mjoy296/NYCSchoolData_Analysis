{
 "cells": [
  {
   "cell_type": "code",
   "execution_count": 1,
   "metadata": {},
   "outputs": [],
   "source": [
    "import pandas as pd\n",
    "import numpy as np\n",
    "import matplotlib.pyplot as plt \n",
    "from sklearn import preprocessing, metrics\n",
    "from sklearn.linear_model import LinearRegression\n",
    "from sklearn.model_selection import cross_val_score, validation_curve, train_test_split\n",
    "from sklearn.metrics import mean_squared_error, r2_score\n",
    "from sklearn.neighbors import KNeighborsClassifier\n",
    "from sklearn.metrics import classification_report, confusion_matrix\n",
    "\n",
    "import warnings\n",
    "warnings.filterwarnings(\"ignore\")"
   ]
  },
  {
   "cell_type": "markdown",
   "metadata": {},
   "source": [
    "#### Examining School Survey Data"
   ]
  },
  {
   "cell_type": "code",
   "execution_count": 2,
   "metadata": {},
   "outputs": [],
   "source": [
    "spr = pd.read_csv('2010_-_2011_School_Progress_Reports_-_All_Schools.csv')"
   ]
  },
  {
   "cell_type": "code",
   "execution_count": 3,
   "metadata": {},
   "outputs": [
    {
     "data": {
      "text/html": [
       "<div>\n",
       "<style scoped>\n",
       "    .dataframe tbody tr th:only-of-type {\n",
       "        vertical-align: middle;\n",
       "    }\n",
       "\n",
       "    .dataframe tbody tr th {\n",
       "        vertical-align: top;\n",
       "    }\n",
       "\n",
       "    .dataframe thead th {\n",
       "        text-align: right;\n",
       "    }\n",
       "</style>\n",
       "<table border=\"1\" class=\"dataframe\">\n",
       "  <thead>\n",
       "    <tr style=\"text-align: right;\">\n",
       "      <th></th>\n",
       "      <th>DBN</th>\n",
       "      <th>DISTRICT</th>\n",
       "      <th>SCHOOL</th>\n",
       "      <th>PRINCIPAL</th>\n",
       "      <th>PROGRESS REPORT TYPE</th>\n",
       "      <th>SCHOOL LEVEL*</th>\n",
       "      <th>PEER INDEX*</th>\n",
       "      <th>2010-2011 OVERALL GRADE</th>\n",
       "      <th>2010-2011 OVERALL SCORE</th>\n",
       "      <th>2010-2011 ENVIRONMENT CATEGORY SCORE</th>\n",
       "      <th>2010-2011 ENVIRONMENT GRADE</th>\n",
       "      <th>2010-2011 PERFORMANCE CATEGORY SCORE</th>\n",
       "      <th>2010-2011 PERFORMANCE GRADE</th>\n",
       "      <th>2010-2011 PROGRESS CATEGORY SCORE</th>\n",
       "      <th>2010-2011 PROGRESS GRADE</th>\n",
       "      <th>2010-2011 ADDITIONAL CREDIT</th>\n",
       "      <th>2009-10 PROGRESS REPORT GRADE</th>\n",
       "    </tr>\n",
       "  </thead>\n",
       "  <tbody>\n",
       "    <tr>\n",
       "      <th>0</th>\n",
       "      <td>01M015</td>\n",
       "      <td>1</td>\n",
       "      <td>P.S. 015 Roberto Clemente</td>\n",
       "      <td>Irene Sanchez</td>\n",
       "      <td>EMS</td>\n",
       "      <td>Elementary</td>\n",
       "      <td>63.61</td>\n",
       "      <td>C</td>\n",
       "      <td>27.0</td>\n",
       "      <td>6.4</td>\n",
       "      <td>B</td>\n",
       "      <td>2.1</td>\n",
       "      <td>D</td>\n",
       "      <td>18.0</td>\n",
       "      <td>C</td>\n",
       "      <td>0.5</td>\n",
       "      <td>C</td>\n",
       "    </tr>\n",
       "    <tr>\n",
       "      <th>1</th>\n",
       "      <td>01M019</td>\n",
       "      <td>1</td>\n",
       "      <td>P.S. 019 Asher Levy</td>\n",
       "      <td>Jacqueline Flanagan</td>\n",
       "      <td>EMS</td>\n",
       "      <td>Elementary</td>\n",
       "      <td>49.48</td>\n",
       "      <td>B</td>\n",
       "      <td>48.7</td>\n",
       "      <td>7.8</td>\n",
       "      <td>B</td>\n",
       "      <td>5.2</td>\n",
       "      <td>D</td>\n",
       "      <td>35.1</td>\n",
       "      <td>A</td>\n",
       "      <td>0.5</td>\n",
       "      <td>C</td>\n",
       "    </tr>\n",
       "  </tbody>\n",
       "</table>\n",
       "</div>"
      ],
      "text/plain": [
       "      DBN  DISTRICT                     SCHOOL            PRINCIPAL  \\\n",
       "0  01M015         1  P.S. 015 Roberto Clemente        Irene Sanchez   \n",
       "1  01M019         1        P.S. 019 Asher Levy  Jacqueline Flanagan   \n",
       "\n",
       "  PROGRESS REPORT TYPE SCHOOL LEVEL*  PEER INDEX* 2010-2011 OVERALL GRADE  \\\n",
       "0                  EMS    Elementary        63.61                      C    \n",
       "1                  EMS    Elementary        49.48                      B    \n",
       "\n",
       "   2010-2011 OVERALL SCORE  2010-2011 ENVIRONMENT CATEGORY SCORE  \\\n",
       "0                     27.0                                   6.4   \n",
       "1                     48.7                                   7.8   \n",
       "\n",
       "  2010-2011 ENVIRONMENT GRADE  2010-2011 PERFORMANCE CATEGORY SCORE  \\\n",
       "0                          B                                    2.1   \n",
       "1                          B                                    5.2   \n",
       "\n",
       "  2010-2011 PERFORMANCE GRADE  2010-2011 PROGRESS CATEGORY SCORE  \\\n",
       "0                          D                                18.0   \n",
       "1                          D                                35.1   \n",
       "\n",
       "  2010-2011 PROGRESS GRADE  2010-2011 ADDITIONAL CREDIT  \\\n",
       "0                       C                           0.5   \n",
       "1                       A                           0.5   \n",
       "\n",
       "  2009-10 PROGRESS REPORT GRADE  \n",
       "0                             C  \n",
       "1                             C  "
      ]
     },
     "execution_count": 3,
     "metadata": {},
     "output_type": "execute_result"
    }
   ],
   "source": [
    "spr.head(2)"
   ]
  },
  {
   "cell_type": "code",
   "execution_count": 4,
   "metadata": {},
   "outputs": [
    {
     "data": {
      "text/plain": [
       "{'K', 'M', 'Q', 'R', 'X'}"
      ]
     },
     "execution_count": 4,
     "metadata": {},
     "output_type": "execute_result"
    }
   ],
   "source": [
    "#extracting borough from dbn\n",
    "spr['borough'] = spr.DBN.str[2]\n",
    "set(spr.borough)"
   ]
  },
  {
   "cell_type": "code",
   "execution_count": 5,
   "metadata": {},
   "outputs": [],
   "source": [
    "#getting relevant columns\n",
    "spr = spr[['DBN', '2010-2011 PROGRESS GRADE', 'borough']]\n",
    "spr.rename(columns = {'2010-2011 PROGRESS GRADE': 'prog_grade'}, inplace = True)"
   ]
  },
  {
   "cell_type": "code",
   "execution_count": 6,
   "metadata": {},
   "outputs": [
    {
     "data": {
      "text/plain": [
       "DBN            0\n",
       "prog_grade    45\n",
       "borough        0\n",
       "dtype: int64"
      ]
     },
     "execution_count": 6,
     "metadata": {},
     "output_type": "execute_result"
    }
   ],
   "source": [
    "#looking at null valuse\n",
    "spr.isnull().sum() "
   ]
  },
  {
   "cell_type": "code",
   "execution_count": 7,
   "metadata": {},
   "outputs": [],
   "source": [
    "#dropping empty rows\n",
    "spr.dropna(axis = 0, inplace = True)"
   ]
  },
  {
   "cell_type": "code",
   "execution_count": 8,
   "metadata": {},
   "outputs": [
    {
     "data": {
      "text/plain": [
       "(1174, 3)"
      ]
     },
     "execution_count": 8,
     "metadata": {},
     "output_type": "execute_result"
    }
   ],
   "source": [
    "#checking shape of new dataframe\n",
    "spr.shape"
   ]
  },
  {
   "cell_type": "code",
   "execution_count": 9,
   "metadata": {},
   "outputs": [
    {
     "data": {
      "text/html": [
       "<div>\n",
       "<style scoped>\n",
       "    .dataframe tbody tr th:only-of-type {\n",
       "        vertical-align: middle;\n",
       "    }\n",
       "\n",
       "    .dataframe tbody tr th {\n",
       "        vertical-align: top;\n",
       "    }\n",
       "\n",
       "    .dataframe thead th {\n",
       "        text-align: right;\n",
       "    }\n",
       "</style>\n",
       "<table border=\"1\" class=\"dataframe\">\n",
       "  <thead>\n",
       "    <tr style=\"text-align: right;\">\n",
       "      <th></th>\n",
       "      <th>grade</th>\n",
       "      <th>prog_grade</th>\n",
       "    </tr>\n",
       "  </thead>\n",
       "  <tbody>\n",
       "    <tr>\n",
       "      <th>2</th>\n",
       "      <td>A</td>\n",
       "      <td>256</td>\n",
       "    </tr>\n",
       "    <tr>\n",
       "      <th>0</th>\n",
       "      <td>B</td>\n",
       "      <td>379</td>\n",
       "    </tr>\n",
       "    <tr>\n",
       "      <th>1</th>\n",
       "      <td>C</td>\n",
       "      <td>353</td>\n",
       "    </tr>\n",
       "    <tr>\n",
       "      <th>4</th>\n",
       "      <td>D</td>\n",
       "      <td>93</td>\n",
       "    </tr>\n",
       "    <tr>\n",
       "      <th>3</th>\n",
       "      <td>F</td>\n",
       "      <td>93</td>\n",
       "    </tr>\n",
       "  </tbody>\n",
       "</table>\n",
       "</div>"
      ],
      "text/plain": [
       "  grade  prog_grade\n",
       "2    A          256\n",
       "0    B          379\n",
       "1    C          353\n",
       "4    D           93\n",
       "3    F           93"
      ]
     },
     "execution_count": 9,
     "metadata": {},
     "output_type": "execute_result"
    }
   ],
   "source": [
    "#looking at count of each unique value in the dependent variable \n",
    "counts = spr.prog_grade.value_counts().reset_index()\n",
    "counts.rename(columns = {'index':'grade'}, inplace = True)\n",
    "counts.sort_values('grade', inplace = True)\n",
    "counts.grade = counts.grade.astype(object)\n",
    "counts"
   ]
  },
  {
   "cell_type": "code",
   "execution_count": 10,
   "metadata": {},
   "outputs": [
    {
     "data": {
      "image/png": "[encoded data removed]",
      "text/plain": [
       "<Figure size 432x288 with 1 Axes>"
      ]
     },
     "metadata": {
      "needs_background": "light"
     },
     "output_type": "display_data"
    }
   ],
   "source": [
    "plt.bar(counts.grade, counts.prog_grade, color = 'black')\n",
    "plt.title('Figure 1. Progress Grade Distribution')\n",
    "plt.ylabel('')\n",
    "plt.show()\n",
    "#plt.savefig('grades_distribution.png', dpi = 600)"
   ]
  },
  {
   "cell_type": "markdown",
   "metadata": {},
   "source": [
    "There is imbalance between in the outcome variables, with a small proportion of D and F grades being assigned. "
   ]
  },
  {
   "cell_type": "markdown",
   "metadata": {},
   "source": [
    "#### Converting outcome variable to quantitative "
   ]
  },
  {
   "cell_type": "code",
   "execution_count": 11,
   "metadata": {},
   "outputs": [],
   "source": [
    "le = preprocessing.LabelEncoder()\n",
    "spr['prog_grade'] = le.fit_transform(spr['prog_grade'])\n",
    "spr.prog_grade = spr.prog_grade.astype(float)"
   ]
  },
  {
   "cell_type": "markdown",
   "metadata": {},
   "source": [
    "#### Examining income level  by borough data"
   ]
  },
  {
   "cell_type": "code",
   "execution_count": 12,
   "metadata": {},
   "outputs": [],
   "source": [
    "income = pd.read_excel('Data2Go.NYC.4th.Edition.All.Variables.xlsx', sheet_name= 'Boro')"
   ]
  },
  {
   "cell_type": "code",
   "execution_count": 13,
   "metadata": {},
   "outputs": [
    {
     "data": {
      "text/html": [
       "<div>\n",
       "<style scoped>\n",
       "    .dataframe tbody tr th:only-of-type {\n",
       "        vertical-align: middle;\n",
       "    }\n",
       "\n",
       "    .dataframe tbody tr th {\n",
       "        vertical-align: top;\n",
       "    }\n",
       "\n",
       "    .dataframe thead th {\n",
       "        text-align: right;\n",
       "    }\n",
       "</style>\n",
       "<table border=\"1\" class=\"dataframe\">\n",
       "  <thead>\n",
       "    <tr style=\"text-align: right;\">\n",
       "      <th></th>\n",
       "      <th>Unnamed: 0</th>\n",
       "      <th>DISPLAY NAME</th>\n",
       "      <th>American Human Development Index</th>\n",
       "      <th>Adult Stability (% of adults living in same house 1 year ago)</th>\n",
       "      <th>Asian or Pacific Islander (% of total population)</th>\n",
       "      <th>Asian or Pacific Islander Population (total #)</th>\n",
       "      <th>Asian or Pacific Islander: 2000 (% of total population)</th>\n",
       "      <th>Asian or Pacific Islander: Change Since 2000 (% change in pop. share)</th>\n",
       "      <th>Black (% of total population)</th>\n",
       "      <th>Black (% of total population).1</th>\n",
       "      <th>...</th>\n",
       "      <th>Private Wage and Salary Workers (% of all employed)</th>\n",
       "      <th>Self-employed (% of all employed)</th>\n",
       "      <th>TANF and General Assistance (% of households in past 12 months)</th>\n",
       "      <th>Unemployed (% ages 16 and older)</th>\n",
       "      <th>Unemployed Veterans (#)</th>\n",
       "      <th>Unemployed Veterans (% of veteran population)</th>\n",
       "      <th>Unpaid Family Worker (% of all employed)</th>\n",
       "      <th>Veteran Poverty (# of veterans with incomes below poverty)</th>\n",
       "      <th>Veteran Poverty (% of veterans with incomes below poverty)</th>\n",
       "      <th>Work for Government (% of all employed)</th>\n",
       "    </tr>\n",
       "  </thead>\n",
       "  <tbody>\n",
       "    <tr>\n",
       "      <th>0</th>\n",
       "      <td>Bronx</td>\n",
       "      <td>NaN</td>\n",
       "      <td>4.409757</td>\n",
       "      <td>90.89105</td>\n",
       "      <td>3.837652</td>\n",
       "      <td>56458</td>\n",
       "      <td>3.114321</td>\n",
       "      <td>23.225958</td>\n",
       "      <td>29.02913</td>\n",
       "      <td>29.02913</td>\n",
       "      <td>...</td>\n",
       "      <td>79.55176</td>\n",
       "      <td>5.851758</td>\n",
       "      <td>8.558588</td>\n",
       "      <td>6.580761</td>\n",
       "      <td>1107</td>\n",
       "      <td>8.239672</td>\n",
       "      <td>0.120764</td>\n",
       "      <td>2925</td>\n",
       "      <td>12.38252</td>\n",
       "      <td>14.47572</td>\n",
       "    </tr>\n",
       "    <tr>\n",
       "      <th>1</th>\n",
       "      <td>Brooklyn</td>\n",
       "      <td>NaN</td>\n",
       "      <td>6.141740</td>\n",
       "      <td>90.12918</td>\n",
       "      <td>12.198680</td>\n",
       "      <td>323115</td>\n",
       "      <td>7.596683</td>\n",
       "      <td>60.579033</td>\n",
       "      <td>30.09920</td>\n",
       "      <td>30.09920</td>\n",
       "      <td>...</td>\n",
       "      <td>78.93236</td>\n",
       "      <td>6.894592</td>\n",
       "      <td>5.031358</td>\n",
       "      <td>4.087040</td>\n",
       "      <td>941</td>\n",
       "      <td>4.735068</td>\n",
       "      <td>0.132670</td>\n",
       "      <td>4507</td>\n",
       "      <td>11.15677</td>\n",
       "      <td>14.04038</td>\n",
       "    </tr>\n",
       "  </tbody>\n",
       "</table>\n",
       "<p>2 rows × 352 columns</p>\n",
       "</div>"
      ],
      "text/plain": [
       "  Unnamed: 0  DISPLAY NAME  American Human Development Index  \\\n",
       "0      Bronx           NaN                          4.409757   \n",
       "1   Brooklyn           NaN                          6.141740   \n",
       "\n",
       "   Adult Stability (% of adults living in same house 1 year ago)  \\\n",
       "0                                           90.89105               \n",
       "1                                           90.12918               \n",
       "\n",
       "   Asian or Pacific Islander (% of total population)  \\\n",
       "0                                           3.837652   \n",
       "1                                          12.198680   \n",
       "\n",
       "   Asian or Pacific Islander Population (total #)  \\\n",
       "0                                           56458   \n",
       "1                                          323115   \n",
       "\n",
       "   Asian or Pacific Islander: 2000 (% of total population)  \\\n",
       "0                                           3.114321         \n",
       "1                                           7.596683         \n",
       "\n",
       "   Asian or Pacific Islander: Change Since 2000 (% change in pop. share)  \\\n",
       "0                                          23.225958                       \n",
       "1                                          60.579033                       \n",
       "\n",
       "   Black (% of total population)  Black (% of total population).1  ...  \\\n",
       "0                       29.02913                         29.02913  ...   \n",
       "1                       30.09920                         30.09920  ...   \n",
       "\n",
       "   Private Wage and Salary Workers (% of all employed)  \\\n",
       "0                                           79.55176     \n",
       "1                                           78.93236     \n",
       "\n",
       "   Self-employed (% of all employed)  \\\n",
       "0                           5.851758   \n",
       "1                           6.894592   \n",
       "\n",
       "   TANF and General Assistance (% of households in past 12 months)  \\\n",
       "0                                           8.558588                 \n",
       "1                                           5.031358                 \n",
       "\n",
       "   Unemployed (% ages 16 and older)  Unemployed Veterans (#)  \\\n",
       "0                          6.580761                     1107   \n",
       "1                          4.087040                      941   \n",
       "\n",
       "   Unemployed Veterans (% of veteran population)  \\\n",
       "0                                       8.239672   \n",
       "1                                       4.735068   \n",
       "\n",
       "   Unpaid Family Worker (% of all employed)  \\\n",
       "0                                  0.120764   \n",
       "1                                  0.132670   \n",
       "\n",
       "   Veteran Poverty (# of veterans with incomes below poverty)  \\\n",
       "0                                               2925            \n",
       "1                                               4507            \n",
       "\n",
       "   Veteran Poverty (% of veterans with incomes below poverty)  \\\n",
       "0                                           12.38252            \n",
       "1                                           11.15677            \n",
       "\n",
       "   Work for Government (% of all employed)  \n",
       "0                                 14.47572  \n",
       "1                                 14.04038  \n",
       "\n",
       "[2 rows x 352 columns]"
      ]
     },
     "execution_count": 13,
     "metadata": {},
     "output_type": "execute_result"
    }
   ],
   "source": [
    "income.head(2)"
   ]
  },
  {
   "cell_type": "code",
   "execution_count": 14,
   "metadata": {},
   "outputs": [],
   "source": [
    "#getting relevant columns\n",
    "income = income[['Unnamed: 0', 'Gini Coefficient of Income Inequality']]"
   ]
  },
  {
   "cell_type": "code",
   "execution_count": 15,
   "metadata": {},
   "outputs": [
    {
     "data": {
      "text/html": [
       "<div>\n",
       "<style scoped>\n",
       "    .dataframe tbody tr th:only-of-type {\n",
       "        vertical-align: middle;\n",
       "    }\n",
       "\n",
       "    .dataframe tbody tr th {\n",
       "        vertical-align: top;\n",
       "    }\n",
       "\n",
       "    .dataframe thead th {\n",
       "        text-align: right;\n",
       "    }\n",
       "</style>\n",
       "<table border=\"1\" class=\"dataframe\">\n",
       "  <thead>\n",
       "    <tr style=\"text-align: right;\">\n",
       "      <th></th>\n",
       "      <th>Unnamed: 0</th>\n",
       "      <th>Gini Coefficient of Income Inequality</th>\n",
       "    </tr>\n",
       "  </thead>\n",
       "  <tbody>\n",
       "    <tr>\n",
       "      <th>0</th>\n",
       "      <td>Bronx</td>\n",
       "      <td>0.5108</td>\n",
       "    </tr>\n",
       "    <tr>\n",
       "      <th>1</th>\n",
       "      <td>Brooklyn</td>\n",
       "      <td>0.5314</td>\n",
       "    </tr>\n",
       "    <tr>\n",
       "      <th>2</th>\n",
       "      <td>Manhattan</td>\n",
       "      <td>0.5943</td>\n",
       "    </tr>\n",
       "    <tr>\n",
       "      <th>3</th>\n",
       "      <td>Queens</td>\n",
       "      <td>0.4472</td>\n",
       "    </tr>\n",
       "    <tr>\n",
       "      <th>4</th>\n",
       "      <td>Staten Island</td>\n",
       "      <td>0.4614</td>\n",
       "    </tr>\n",
       "  </tbody>\n",
       "</table>\n",
       "</div>"
      ],
      "text/plain": [
       "      Unnamed: 0  Gini Coefficient of Income Inequality\n",
       "0          Bronx                                 0.5108\n",
       "1       Brooklyn                                 0.5314\n",
       "2      Manhattan                                 0.5943\n",
       "3         Queens                                 0.4472\n",
       "4  Staten Island                                 0.4614"
      ]
     },
     "execution_count": 15,
     "metadata": {},
     "output_type": "execute_result"
    }
   ],
   "source": [
    "income"
   ]
  },
  {
   "cell_type": "code",
   "execution_count": 16,
   "metadata": {},
   "outputs": [
    {
     "data": {
      "text/plain": [
       "Unnamed: 0                               0\n",
       "Gini Coefficient of Income Inequality    0\n",
       "dtype: int64"
      ]
     },
     "execution_count": 16,
     "metadata": {},
     "output_type": "execute_result"
    }
   ],
   "source": [
    "#checking for null values\n",
    "income.isnull().sum()"
   ]
  },
  {
   "cell_type": "code",
   "execution_count": 17,
   "metadata": {},
   "outputs": [],
   "source": [
    "#renaming columns for easier reference\n",
    "income.rename(columns = {'Gini Coefficient of Income Inequality':'income_inequality',\n",
    "                        'Unnamed: 0':'borough'}, inplace = True)"
   ]
  },
  {
   "cell_type": "code",
   "execution_count": 18,
   "metadata": {},
   "outputs": [],
   "source": [
    "#creating new column of borough name used in the dbn classification in school survey dataset\n",
    "income['borough_abbr'] = np.where(income['borough'] == 'Brooklyn', 'K',\n",
    "                                 np.where(income.borough == 'Bronx', 'X', \n",
    "                                         np.where(income.borough == 'Manhattan', 'M',\n",
    "                                                 np.where(income.borough == 'Queens', 'Q', 'R'))))\n"
   ]
  },
  {
   "cell_type": "code",
   "execution_count": 19,
   "metadata": {},
   "outputs": [
    {
     "data": {
      "text/html": [
       "<div>\n",
       "<style scoped>\n",
       "    .dataframe tbody tr th:only-of-type {\n",
       "        vertical-align: middle;\n",
       "    }\n",
       "\n",
       "    .dataframe tbody tr th {\n",
       "        vertical-align: top;\n",
       "    }\n",
       "\n",
       "    .dataframe thead th {\n",
       "        text-align: right;\n",
       "    }\n",
       "</style>\n",
       "<table border=\"1\" class=\"dataframe\">\n",
       "  <thead>\n",
       "    <tr style=\"text-align: right;\">\n",
       "      <th></th>\n",
       "      <th>income_inequality</th>\n",
       "      <th>borough_abbr</th>\n",
       "    </tr>\n",
       "  </thead>\n",
       "  <tbody>\n",
       "    <tr>\n",
       "      <th>0</th>\n",
       "      <td>0.5108</td>\n",
       "      <td>X</td>\n",
       "    </tr>\n",
       "    <tr>\n",
       "      <th>1</th>\n",
       "      <td>0.5314</td>\n",
       "      <td>K</td>\n",
       "    </tr>\n",
       "    <tr>\n",
       "      <th>2</th>\n",
       "      <td>0.5943</td>\n",
       "      <td>M</td>\n",
       "    </tr>\n",
       "    <tr>\n",
       "      <th>3</th>\n",
       "      <td>0.4472</td>\n",
       "      <td>Q</td>\n",
       "    </tr>\n",
       "    <tr>\n",
       "      <th>4</th>\n",
       "      <td>0.4614</td>\n",
       "      <td>R</td>\n",
       "    </tr>\n",
       "  </tbody>\n",
       "</table>\n",
       "</div>"
      ],
      "text/plain": [
       "   income_inequality borough_abbr\n",
       "0             0.5108            X\n",
       "1             0.5314            K\n",
       "2             0.5943            M\n",
       "3             0.4472            Q\n",
       "4             0.4614            R"
      ]
     },
     "execution_count": 19,
     "metadata": {},
     "output_type": "execute_result"
    }
   ],
   "source": [
    "income = income[['income_inequality', 'borough_abbr']]\n",
    "income"
   ]
  },
  {
   "cell_type": "markdown",
   "metadata": {},
   "source": [
    "#### Examinig general scores data"
   ]
  },
  {
   "cell_type": "code",
   "execution_count": 20,
   "metadata": {},
   "outputs": [],
   "source": [
    "gen = pd.read_excel('2011nycdata/masterfile11_gened_final.xlsx')"
   ]
  },
  {
   "cell_type": "code",
   "execution_count": 21,
   "metadata": {},
   "outputs": [
    {
     "data": {
      "text/html": [
       "<div>\n",
       "<style scoped>\n",
       "    .dataframe tbody tr th:only-of-type {\n",
       "        vertical-align: middle;\n",
       "    }\n",
       "\n",
       "    .dataframe tbody tr th {\n",
       "        vertical-align: top;\n",
       "    }\n",
       "\n",
       "    .dataframe thead th {\n",
       "        text-align: right;\n",
       "    }\n",
       "</style>\n",
       "<table border=\"1\" class=\"dataframe\">\n",
       "  <thead>\n",
       "    <tr style=\"text-align: right;\">\n",
       "      <th></th>\n",
       "      <th>2011 School Survey for Community Schools\\nPlease refer to the Data Dictionary file for more detailed information about the format of this data.</th>\n",
       "      <th>Unnamed: 1</th>\n",
       "      <th>Unnamed: 2</th>\n",
       "      <th>Unnamed: 3</th>\n",
       "      <th>Unnamed: 4</th>\n",
       "      <th>Unnamed: 5</th>\n",
       "      <th>Unnamed: 6</th>\n",
       "      <th>Unnamed: 7</th>\n",
       "      <th>Unnamed: 8</th>\n",
       "      <th>Unnamed: 9</th>\n",
       "      <th>...</th>\n",
       "      <th>Unnamed: 1927</th>\n",
       "      <th>Unnamed: 1928</th>\n",
       "      <th>Unnamed: 1929</th>\n",
       "      <th>Unnamed: 1930</th>\n",
       "      <th>Unnamed: 1931</th>\n",
       "      <th>Unnamed: 1932</th>\n",
       "      <th>Unnamed: 1933</th>\n",
       "      <th>Unnamed: 1934</th>\n",
       "      <th>Unnamed: 1935</th>\n",
       "      <th>Unnamed: 1936</th>\n",
       "    </tr>\n",
       "  </thead>\n",
       "  <tbody>\n",
       "    <tr>\n",
       "      <th>0</th>\n",
       "      <td>NaN</td>\n",
       "      <td>NaN</td>\n",
       "      <td>NaN</td>\n",
       "      <td>NaN</td>\n",
       "      <td>NaN</td>\n",
       "      <td>NaN</td>\n",
       "      <td>NaN</td>\n",
       "      <td>NaN</td>\n",
       "      <td>NaN</td>\n",
       "      <td>NaN</td>\n",
       "      <td>...</td>\n",
       "      <td>NaN</td>\n",
       "      <td>NaN</td>\n",
       "      <td>NaN</td>\n",
       "      <td>NaN</td>\n",
       "      <td>NaN</td>\n",
       "      <td>NaN</td>\n",
       "      <td>NaN</td>\n",
       "      <td>NaN</td>\n",
       "      <td>NaN</td>\n",
       "      <td>NaN</td>\n",
       "    </tr>\n",
       "    <tr>\n",
       "      <th>1</th>\n",
       "      <td>dbn</td>\n",
       "      <td>schoolname</td>\n",
       "      <td>rr_s</td>\n",
       "      <td>rr_t</td>\n",
       "      <td>rr_p</td>\n",
       "      <td>N_s</td>\n",
       "      <td>N_t</td>\n",
       "      <td>N_p</td>\n",
       "      <td>nr_s</td>\n",
       "      <td>nr_t</td>\n",
       "      <td>...</td>\n",
       "      <td>s_N_q14e_3</td>\n",
       "      <td>s_N_q14e_4</td>\n",
       "      <td>s_N_q14f_1</td>\n",
       "      <td>s_N_q14f_2</td>\n",
       "      <td>s_N_q14f_3</td>\n",
       "      <td>s_N_q14f_4</td>\n",
       "      <td>s_N_q14g_1</td>\n",
       "      <td>s_N_q14g_2</td>\n",
       "      <td>s_N_q14g_3</td>\n",
       "      <td>s_N_q14g_4</td>\n",
       "    </tr>\n",
       "  </tbody>\n",
       "</table>\n",
       "<p>2 rows × 1937 columns</p>\n",
       "</div>"
      ],
      "text/plain": [
       "  2011 School Survey for Community Schools\\nPlease refer to the Data Dictionary file for more detailed information about the format of this data.  \\\n",
       "0                                                NaN                                                                                                \n",
       "1                                                dbn                                                                                                \n",
       "\n",
       "   Unnamed: 1 Unnamed: 2 Unnamed: 3 Unnamed: 4 Unnamed: 5 Unnamed: 6  \\\n",
       "0         NaN        NaN        NaN        NaN        NaN        NaN   \n",
       "1  schoolname       rr_s       rr_t       rr_p        N_s        N_t   \n",
       "\n",
       "  Unnamed: 7 Unnamed: 8 Unnamed: 9  ... Unnamed: 1927 Unnamed: 1928  \\\n",
       "0        NaN        NaN        NaN  ...           NaN           NaN   \n",
       "1        N_p       nr_s       nr_t  ...    s_N_q14e_3    s_N_q14e_4   \n",
       "\n",
       "  Unnamed: 1929 Unnamed: 1930 Unnamed: 1931 Unnamed: 1932 Unnamed: 1933  \\\n",
       "0           NaN           NaN           NaN           NaN           NaN   \n",
       "1    s_N_q14f_1    s_N_q14f_2    s_N_q14f_3    s_N_q14f_4    s_N_q14g_1   \n",
       "\n",
       "  Unnamed: 1934 Unnamed: 1935 Unnamed: 1936  \n",
       "0           NaN           NaN           NaN  \n",
       "1    s_N_q14g_2    s_N_q14g_3    s_N_q14g_4  \n",
       "\n",
       "[2 rows x 1937 columns]"
      ]
     },
     "execution_count": 21,
     "metadata": {},
     "output_type": "execute_result"
    }
   ],
   "source": [
    "gen.head(2)"
   ]
  },
  {
   "cell_type": "code",
   "execution_count": 22,
   "metadata": {},
   "outputs": [],
   "source": [
    "#cleaning columns \n",
    "gen.columns = gen.iloc[1]\n",
    "gen = gen[2:]"
   ]
  },
  {
   "cell_type": "code",
   "execution_count": 23,
   "metadata": {
    "scrolled": true
   },
   "outputs": [
    {
     "data": {
      "text/html": [
       "<div>\n",
       "<style scoped>\n",
       "    .dataframe tbody tr th:only-of-type {\n",
       "        vertical-align: middle;\n",
       "    }\n",
       "\n",
       "    .dataframe tbody tr th {\n",
       "        vertical-align: top;\n",
       "    }\n",
       "\n",
       "    .dataframe thead th {\n",
       "        text-align: right;\n",
       "    }\n",
       "</style>\n",
       "<table border=\"1\" class=\"dataframe\">\n",
       "  <thead>\n",
       "    <tr style=\"text-align: right;\">\n",
       "      <th>1</th>\n",
       "      <th>dbn</th>\n",
       "      <th>schoolname</th>\n",
       "      <th>rr_s</th>\n",
       "      <th>rr_t</th>\n",
       "      <th>rr_p</th>\n",
       "      <th>N_s</th>\n",
       "      <th>N_t</th>\n",
       "      <th>N_p</th>\n",
       "      <th>nr_s</th>\n",
       "      <th>nr_t</th>\n",
       "      <th>...</th>\n",
       "      <th>s_N_q14e_3</th>\n",
       "      <th>s_N_q14e_4</th>\n",
       "      <th>s_N_q14f_1</th>\n",
       "      <th>s_N_q14f_2</th>\n",
       "      <th>s_N_q14f_3</th>\n",
       "      <th>s_N_q14f_4</th>\n",
       "      <th>s_N_q14g_1</th>\n",
       "      <th>s_N_q14g_2</th>\n",
       "      <th>s_N_q14g_3</th>\n",
       "      <th>s_N_q14g_4</th>\n",
       "    </tr>\n",
       "  </thead>\n",
       "  <tbody>\n",
       "    <tr>\n",
       "      <th>2</th>\n",
       "      <td>01M015</td>\n",
       "      <td>P.S. 015 Roberto Clemente</td>\n",
       "      <td>NaN</td>\n",
       "      <td>88</td>\n",
       "      <td>60</td>\n",
       "      <td>NaN</td>\n",
       "      <td>22</td>\n",
       "      <td>90</td>\n",
       "      <td>0</td>\n",
       "      <td>25</td>\n",
       "      <td>...</td>\n",
       "      <td>NaN</td>\n",
       "      <td>NaN</td>\n",
       "      <td>NaN</td>\n",
       "      <td>NaN</td>\n",
       "      <td>NaN</td>\n",
       "      <td>NaN</td>\n",
       "      <td>NaN</td>\n",
       "      <td>NaN</td>\n",
       "      <td>NaN</td>\n",
       "      <td>NaN</td>\n",
       "    </tr>\n",
       "    <tr>\n",
       "      <th>3</th>\n",
       "      <td>01M019</td>\n",
       "      <td>P.S. 019 Asher Levy</td>\n",
       "      <td>NaN</td>\n",
       "      <td>100</td>\n",
       "      <td>60</td>\n",
       "      <td>NaN</td>\n",
       "      <td>34</td>\n",
       "      <td>161</td>\n",
       "      <td>0</td>\n",
       "      <td>33</td>\n",
       "      <td>...</td>\n",
       "      <td>NaN</td>\n",
       "      <td>NaN</td>\n",
       "      <td>NaN</td>\n",
       "      <td>NaN</td>\n",
       "      <td>NaN</td>\n",
       "      <td>NaN</td>\n",
       "      <td>NaN</td>\n",
       "      <td>NaN</td>\n",
       "      <td>NaN</td>\n",
       "      <td>NaN</td>\n",
       "    </tr>\n",
       "  </tbody>\n",
       "</table>\n",
       "<p>2 rows × 1937 columns</p>\n",
       "</div>"
      ],
      "text/plain": [
       "1     dbn                 schoolname rr_s rr_t rr_p  N_s N_t  N_p nr_s nr_t  \\\n",
       "2  01M015  P.S. 015 Roberto Clemente  NaN   88   60  NaN  22   90    0   25   \n",
       "3  01M019        P.S. 019 Asher Levy  NaN  100   60  NaN  34  161    0   33   \n",
       "\n",
       "1  ... s_N_q14e_3 s_N_q14e_4 s_N_q14f_1 s_N_q14f_2 s_N_q14f_3 s_N_q14f_4  \\\n",
       "2  ...        NaN        NaN        NaN        NaN        NaN        NaN   \n",
       "3  ...        NaN        NaN        NaN        NaN        NaN        NaN   \n",
       "\n",
       "1 s_N_q14g_1 s_N_q14g_2 s_N_q14g_3 s_N_q14g_4  \n",
       "2        NaN        NaN        NaN        NaN  \n",
       "3        NaN        NaN        NaN        NaN  \n",
       "\n",
       "[2 rows x 1937 columns]"
      ]
     },
     "execution_count": 23,
     "metadata": {},
     "output_type": "execute_result"
    }
   ],
   "source": [
    "gen.head(2)"
   ]
  },
  {
   "cell_type": "code",
   "execution_count": 24,
   "metadata": {},
   "outputs": [],
   "source": [
    "#extracting relevant columns \n",
    "cols = ['dbn','saf_tot_11', 'com_tot_11', 'eng_tot_11', 'aca_tot_11']"
   ]
  },
  {
   "cell_type": "code",
   "execution_count": 25,
   "metadata": {},
   "outputs": [],
   "source": [
    "sub = gen[cols]"
   ]
  },
  {
   "cell_type": "code",
   "execution_count": 26,
   "metadata": {},
   "outputs": [
    {
     "data": {
      "text/plain": [
       "1\n",
       "dbn           0.0\n",
       "saf_tot_11    0.0\n",
       "com_tot_11    0.0\n",
       "eng_tot_11    0.0\n",
       "aca_tot_11    0.0\n",
       "dtype: float64"
      ]
     },
     "execution_count": 26,
     "metadata": {},
     "output_type": "execute_result"
    }
   ],
   "source": [
    "#getting count of missing values\n",
    "sub.isnull().sum() * 100 / len(gen)"
   ]
  },
  {
   "cell_type": "code",
   "execution_count": 27,
   "metadata": {},
   "outputs": [],
   "source": [
    "#converting columns to numeric\n",
    "sub[['saf_tot_11', 'com_tot_11', 'eng_tot_11', 'aca_tot_11']] = sub[['saf_tot_11', 'com_tot_11', 'eng_tot_11', 'aca_tot_11']].astype(float)\n"
   ]
  },
  {
   "cell_type": "code",
   "execution_count": 28,
   "metadata": {},
   "outputs": [
    {
     "data": {
      "text/html": [
       "<div>\n",
       "<style scoped>\n",
       "    .dataframe tbody tr th:only-of-type {\n",
       "        vertical-align: middle;\n",
       "    }\n",
       "\n",
       "    .dataframe tbody tr th {\n",
       "        vertical-align: top;\n",
       "    }\n",
       "\n",
       "    .dataframe thead th {\n",
       "        text-align: right;\n",
       "    }\n",
       "</style>\n",
       "<table border=\"1\" class=\"dataframe\">\n",
       "  <thead>\n",
       "    <tr style=\"text-align: right;\">\n",
       "      <th>1</th>\n",
       "      <th>saf_tot_11</th>\n",
       "      <th>com_tot_11</th>\n",
       "      <th>eng_tot_11</th>\n",
       "      <th>aca_tot_11</th>\n",
       "    </tr>\n",
       "  </thead>\n",
       "  <tbody>\n",
       "    <tr>\n",
       "      <th>count</th>\n",
       "      <td>1646.000000</td>\n",
       "      <td>1646.000000</td>\n",
       "      <td>1646.000000</td>\n",
       "      <td>1646.000000</td>\n",
       "    </tr>\n",
       "    <tr>\n",
       "      <th>mean</th>\n",
       "      <td>7.776124</td>\n",
       "      <td>7.189186</td>\n",
       "      <td>7.435237</td>\n",
       "      <td>7.904435</td>\n",
       "    </tr>\n",
       "    <tr>\n",
       "      <th>std</th>\n",
       "      <td>0.834853</td>\n",
       "      <td>0.781646</td>\n",
       "      <td>0.738756</td>\n",
       "      <td>0.671358</td>\n",
       "    </tr>\n",
       "    <tr>\n",
       "      <th>min</th>\n",
       "      <td>0.000000</td>\n",
       "      <td>0.000000</td>\n",
       "      <td>0.000000</td>\n",
       "      <td>0.000000</td>\n",
       "    </tr>\n",
       "    <tr>\n",
       "      <th>25%</th>\n",
       "      <td>7.200000</td>\n",
       "      <td>6.700000</td>\n",
       "      <td>7.000000</td>\n",
       "      <td>7.500000</td>\n",
       "    </tr>\n",
       "    <tr>\n",
       "      <th>50%</th>\n",
       "      <td>7.800000</td>\n",
       "      <td>7.200000</td>\n",
       "      <td>7.400000</td>\n",
       "      <td>7.900000</td>\n",
       "    </tr>\n",
       "    <tr>\n",
       "      <th>75%</th>\n",
       "      <td>8.375000</td>\n",
       "      <td>7.700000</td>\n",
       "      <td>7.900000</td>\n",
       "      <td>8.300000</td>\n",
       "    </tr>\n",
       "    <tr>\n",
       "      <th>max</th>\n",
       "      <td>9.700000</td>\n",
       "      <td>9.300000</td>\n",
       "      <td>9.300000</td>\n",
       "      <td>9.700000</td>\n",
       "    </tr>\n",
       "  </tbody>\n",
       "</table>\n",
       "</div>"
      ],
      "text/plain": [
       "1       saf_tot_11   com_tot_11   eng_tot_11   aca_tot_11\n",
       "count  1646.000000  1646.000000  1646.000000  1646.000000\n",
       "mean      7.776124     7.189186     7.435237     7.904435\n",
       "std       0.834853     0.781646     0.738756     0.671358\n",
       "min       0.000000     0.000000     0.000000     0.000000\n",
       "25%       7.200000     6.700000     7.000000     7.500000\n",
       "50%       7.800000     7.200000     7.400000     7.900000\n",
       "75%       8.375000     7.700000     7.900000     8.300000\n",
       "max       9.700000     9.300000     9.300000     9.700000"
      ]
     },
     "execution_count": 28,
     "metadata": {},
     "output_type": "execute_result"
    }
   ],
   "source": [
    "sub.describe()"
   ]
  },
  {
   "cell_type": "code",
   "execution_count": 29,
   "metadata": {},
   "outputs": [
    {
     "data": {
      "text/plain": [
       "1\n",
       "saf_tot_11    7.8\n",
       "com_tot_11    7.2\n",
       "eng_tot_11    7.4\n",
       "aca_tot_11    7.9\n",
       "dtype: float64"
      ]
     },
     "execution_count": 29,
     "metadata": {},
     "output_type": "execute_result"
    }
   ],
   "source": [
    "sub.median()"
   ]
  },
  {
   "cell_type": "code",
   "execution_count": 30,
   "metadata": {},
   "outputs": [
    {
     "data": {
      "text/html": [
       "<div>\n",
       "<style scoped>\n",
       "    .dataframe tbody tr th:only-of-type {\n",
       "        vertical-align: middle;\n",
       "    }\n",
       "\n",
       "    .dataframe tbody tr th {\n",
       "        vertical-align: top;\n",
       "    }\n",
       "\n",
       "    .dataframe thead th {\n",
       "        text-align: right;\n",
       "    }\n",
       "</style>\n",
       "<table border=\"1\" class=\"dataframe\">\n",
       "  <thead>\n",
       "    <tr style=\"text-align: right;\">\n",
       "      <th>1</th>\n",
       "      <th>dbn</th>\n",
       "      <th>saf_tot_11</th>\n",
       "      <th>com_tot_11</th>\n",
       "      <th>eng_tot_11</th>\n",
       "      <th>aca_tot_11</th>\n",
       "    </tr>\n",
       "  </thead>\n",
       "  <tbody>\n",
       "    <tr>\n",
       "      <th>0</th>\n",
       "      <td>01M015</td>\n",
       "      <td>8.3</td>\n",
       "      <td>6.9</td>\n",
       "      <td>7.1</td>\n",
       "      <td>7.7</td>\n",
       "    </tr>\n",
       "    <tr>\n",
       "      <th>1</th>\n",
       "      <td>01M019</td>\n",
       "      <td>NaN</td>\n",
       "      <td>NaN</td>\n",
       "      <td>NaN</td>\n",
       "      <td>NaN</td>\n",
       "    </tr>\n",
       "    <tr>\n",
       "      <th>2</th>\n",
       "      <td>01M020</td>\n",
       "      <td>NaN</td>\n",
       "      <td>NaN</td>\n",
       "      <td>NaN</td>\n",
       "      <td>NaN</td>\n",
       "    </tr>\n",
       "    <tr>\n",
       "      <th>3</th>\n",
       "      <td>01M034</td>\n",
       "      <td>NaN</td>\n",
       "      <td>NaN</td>\n",
       "      <td>NaN</td>\n",
       "      <td>NaN</td>\n",
       "    </tr>\n",
       "    <tr>\n",
       "      <th>4</th>\n",
       "      <td>01M063</td>\n",
       "      <td>NaN</td>\n",
       "      <td>NaN</td>\n",
       "      <td>NaN</td>\n",
       "      <td>NaN</td>\n",
       "    </tr>\n",
       "    <tr>\n",
       "      <th>...</th>\n",
       "      <td>...</td>\n",
       "      <td>...</td>\n",
       "      <td>...</td>\n",
       "      <td>...</td>\n",
       "      <td>...</td>\n",
       "    </tr>\n",
       "    <tr>\n",
       "      <th>1641</th>\n",
       "      <td>84X705</td>\n",
       "      <td>NaN</td>\n",
       "      <td>NaN</td>\n",
       "      <td>NaN</td>\n",
       "      <td>NaN</td>\n",
       "    </tr>\n",
       "    <tr>\n",
       "      <th>1642</th>\n",
       "      <td>84X706</td>\n",
       "      <td>NaN</td>\n",
       "      <td>NaN</td>\n",
       "      <td>NaN</td>\n",
       "      <td>NaN</td>\n",
       "    </tr>\n",
       "    <tr>\n",
       "      <th>1643</th>\n",
       "      <td>84X717</td>\n",
       "      <td>NaN</td>\n",
       "      <td>NaN</td>\n",
       "      <td>NaN</td>\n",
       "      <td>NaN</td>\n",
       "    </tr>\n",
       "    <tr>\n",
       "      <th>1644</th>\n",
       "      <td>84X718</td>\n",
       "      <td>NaN</td>\n",
       "      <td>NaN</td>\n",
       "      <td>NaN</td>\n",
       "      <td>NaN</td>\n",
       "    </tr>\n",
       "    <tr>\n",
       "      <th>1645</th>\n",
       "      <td>84X730</td>\n",
       "      <td>NaN</td>\n",
       "      <td>NaN</td>\n",
       "      <td>NaN</td>\n",
       "      <td>NaN</td>\n",
       "    </tr>\n",
       "  </tbody>\n",
       "</table>\n",
       "<p>1646 rows × 5 columns</p>\n",
       "</div>"
      ],
      "text/plain": [
       "1        dbn  saf_tot_11  com_tot_11  eng_tot_11  aca_tot_11\n",
       "0     01M015         8.3         6.9         7.1         7.7\n",
       "1     01M019         NaN         NaN         NaN         NaN\n",
       "2     01M020         NaN         NaN         NaN         NaN\n",
       "3     01M034         NaN         NaN         NaN         NaN\n",
       "4     01M063         NaN         NaN         NaN         NaN\n",
       "...      ...         ...         ...         ...         ...\n",
       "1641  84X705         NaN         NaN         NaN         NaN\n",
       "1642  84X706         NaN         NaN         NaN         NaN\n",
       "1643  84X717         NaN         NaN         NaN         NaN\n",
       "1644  84X718         NaN         NaN         NaN         NaN\n",
       "1645  84X730         NaN         NaN         NaN         NaN\n",
       "\n",
       "[1646 rows x 5 columns]"
      ]
     },
     "execution_count": 30,
     "metadata": {},
     "output_type": "execute_result"
    }
   ],
   "source": [
    "sub.mode()"
   ]
  },
  {
   "cell_type": "markdown",
   "metadata": {},
   "source": [
    "#### Combining datasets"
   ]
  },
  {
   "cell_type": "code",
   "execution_count": 31,
   "metadata": {},
   "outputs": [],
   "source": [
    "data = pd.merge(sub, spr, left_on = 'dbn', right_on = 'DBN', how = 'inner')"
   ]
  },
  {
   "cell_type": "code",
   "execution_count": 32,
   "metadata": {},
   "outputs": [
    {
     "data": {
      "text/html": [
       "<div>\n",
       "<style scoped>\n",
       "    .dataframe tbody tr th:only-of-type {\n",
       "        vertical-align: middle;\n",
       "    }\n",
       "\n",
       "    .dataframe tbody tr th {\n",
       "        vertical-align: top;\n",
       "    }\n",
       "\n",
       "    .dataframe thead th {\n",
       "        text-align: right;\n",
       "    }\n",
       "</style>\n",
       "<table border=\"1\" class=\"dataframe\">\n",
       "  <thead>\n",
       "    <tr style=\"text-align: right;\">\n",
       "      <th></th>\n",
       "      <th>dbn</th>\n",
       "      <th>saf_tot_11</th>\n",
       "      <th>com_tot_11</th>\n",
       "      <th>eng_tot_11</th>\n",
       "      <th>aca_tot_11</th>\n",
       "      <th>DBN</th>\n",
       "      <th>prog_grade</th>\n",
       "      <th>borough</th>\n",
       "    </tr>\n",
       "  </thead>\n",
       "  <tbody>\n",
       "    <tr>\n",
       "      <th>0</th>\n",
       "      <td>01M015</td>\n",
       "      <td>8.0</td>\n",
       "      <td>7.7</td>\n",
       "      <td>7.5</td>\n",
       "      <td>7.9</td>\n",
       "      <td>01M015</td>\n",
       "      <td>2.0</td>\n",
       "      <td>M</td>\n",
       "    </tr>\n",
       "    <tr>\n",
       "      <th>1</th>\n",
       "      <td>01M019</td>\n",
       "      <td>8.5</td>\n",
       "      <td>8.1</td>\n",
       "      <td>8.2</td>\n",
       "      <td>8.4</td>\n",
       "      <td>01M019</td>\n",
       "      <td>0.0</td>\n",
       "      <td>M</td>\n",
       "    </tr>\n",
       "    <tr>\n",
       "      <th>2</th>\n",
       "      <td>01M020</td>\n",
       "      <td>8.2</td>\n",
       "      <td>7.3</td>\n",
       "      <td>7.5</td>\n",
       "      <td>8.0</td>\n",
       "      <td>01M020</td>\n",
       "      <td>1.0</td>\n",
       "      <td>M</td>\n",
       "    </tr>\n",
       "    <tr>\n",
       "      <th>3</th>\n",
       "      <td>01M034</td>\n",
       "      <td>7.3</td>\n",
       "      <td>6.7</td>\n",
       "      <td>7.1</td>\n",
       "      <td>7.9</td>\n",
       "      <td>01M034</td>\n",
       "      <td>2.0</td>\n",
       "      <td>M</td>\n",
       "    </tr>\n",
       "    <tr>\n",
       "      <th>4</th>\n",
       "      <td>01M063</td>\n",
       "      <td>8.5</td>\n",
       "      <td>7.6</td>\n",
       "      <td>7.9</td>\n",
       "      <td>8.0</td>\n",
       "      <td>01M063</td>\n",
       "      <td>1.0</td>\n",
       "      <td>M</td>\n",
       "    </tr>\n",
       "  </tbody>\n",
       "</table>\n",
       "</div>"
      ],
      "text/plain": [
       "      dbn  saf_tot_11  com_tot_11  eng_tot_11  aca_tot_11     DBN  prog_grade  \\\n",
       "0  01M015         8.0         7.7         7.5         7.9  01M015         2.0   \n",
       "1  01M019         8.5         8.1         8.2         8.4  01M019         0.0   \n",
       "2  01M020         8.2         7.3         7.5         8.0  01M020         1.0   \n",
       "3  01M034         7.3         6.7         7.1         7.9  01M034         2.0   \n",
       "4  01M063         8.5         7.6         7.9         8.0  01M063         1.0   \n",
       "\n",
       "  borough  \n",
       "0       M  \n",
       "1       M  \n",
       "2       M  \n",
       "3       M  \n",
       "4       M  "
      ]
     },
     "execution_count": 32,
     "metadata": {},
     "output_type": "execute_result"
    }
   ],
   "source": [
    "data.head()"
   ]
  },
  {
   "cell_type": "code",
   "execution_count": 33,
   "metadata": {},
   "outputs": [],
   "source": [
    "data = pd.merge(data, income, left_on = 'borough', right_on = 'borough_abbr', how = 'left')"
   ]
  },
  {
   "cell_type": "code",
   "execution_count": 34,
   "metadata": {},
   "outputs": [
    {
     "data": {
      "text/html": [
       "<div>\n",
       "<style scoped>\n",
       "    .dataframe tbody tr th:only-of-type {\n",
       "        vertical-align: middle;\n",
       "    }\n",
       "\n",
       "    .dataframe tbody tr th {\n",
       "        vertical-align: top;\n",
       "    }\n",
       "\n",
       "    .dataframe thead th {\n",
       "        text-align: right;\n",
       "    }\n",
       "</style>\n",
       "<table border=\"1\" class=\"dataframe\">\n",
       "  <thead>\n",
       "    <tr style=\"text-align: right;\">\n",
       "      <th></th>\n",
       "      <th>dbn</th>\n",
       "      <th>saf_tot_11</th>\n",
       "      <th>com_tot_11</th>\n",
       "      <th>eng_tot_11</th>\n",
       "      <th>aca_tot_11</th>\n",
       "      <th>DBN</th>\n",
       "      <th>prog_grade</th>\n",
       "      <th>borough</th>\n",
       "      <th>income_inequality</th>\n",
       "      <th>borough_abbr</th>\n",
       "    </tr>\n",
       "  </thead>\n",
       "  <tbody>\n",
       "    <tr>\n",
       "      <th>0</th>\n",
       "      <td>01M015</td>\n",
       "      <td>8.0</td>\n",
       "      <td>7.7</td>\n",
       "      <td>7.5</td>\n",
       "      <td>7.9</td>\n",
       "      <td>01M015</td>\n",
       "      <td>2.0</td>\n",
       "      <td>M</td>\n",
       "      <td>0.5943</td>\n",
       "      <td>M</td>\n",
       "    </tr>\n",
       "    <tr>\n",
       "      <th>1</th>\n",
       "      <td>01M019</td>\n",
       "      <td>8.5</td>\n",
       "      <td>8.1</td>\n",
       "      <td>8.2</td>\n",
       "      <td>8.4</td>\n",
       "      <td>01M019</td>\n",
       "      <td>0.0</td>\n",
       "      <td>M</td>\n",
       "      <td>0.5943</td>\n",
       "      <td>M</td>\n",
       "    </tr>\n",
       "    <tr>\n",
       "      <th>2</th>\n",
       "      <td>01M020</td>\n",
       "      <td>8.2</td>\n",
       "      <td>7.3</td>\n",
       "      <td>7.5</td>\n",
       "      <td>8.0</td>\n",
       "      <td>01M020</td>\n",
       "      <td>1.0</td>\n",
       "      <td>M</td>\n",
       "      <td>0.5943</td>\n",
       "      <td>M</td>\n",
       "    </tr>\n",
       "    <tr>\n",
       "      <th>3</th>\n",
       "      <td>01M034</td>\n",
       "      <td>7.3</td>\n",
       "      <td>6.7</td>\n",
       "      <td>7.1</td>\n",
       "      <td>7.9</td>\n",
       "      <td>01M034</td>\n",
       "      <td>2.0</td>\n",
       "      <td>M</td>\n",
       "      <td>0.5943</td>\n",
       "      <td>M</td>\n",
       "    </tr>\n",
       "    <tr>\n",
       "      <th>4</th>\n",
       "      <td>01M063</td>\n",
       "      <td>8.5</td>\n",
       "      <td>7.6</td>\n",
       "      <td>7.9</td>\n",
       "      <td>8.0</td>\n",
       "      <td>01M063</td>\n",
       "      <td>1.0</td>\n",
       "      <td>M</td>\n",
       "      <td>0.5943</td>\n",
       "      <td>M</td>\n",
       "    </tr>\n",
       "  </tbody>\n",
       "</table>\n",
       "</div>"
      ],
      "text/plain": [
       "      dbn  saf_tot_11  com_tot_11  eng_tot_11  aca_tot_11     DBN  prog_grade  \\\n",
       "0  01M015         8.0         7.7         7.5         7.9  01M015         2.0   \n",
       "1  01M019         8.5         8.1         8.2         8.4  01M019         0.0   \n",
       "2  01M020         8.2         7.3         7.5         8.0  01M020         1.0   \n",
       "3  01M034         7.3         6.7         7.1         7.9  01M034         2.0   \n",
       "4  01M063         8.5         7.6         7.9         8.0  01M063         1.0   \n",
       "\n",
       "  borough  income_inequality borough_abbr  \n",
       "0       M             0.5943            M  \n",
       "1       M             0.5943            M  \n",
       "2       M             0.5943            M  \n",
       "3       M             0.5943            M  \n",
       "4       M             0.5943            M  "
      ]
     },
     "execution_count": 34,
     "metadata": {},
     "output_type": "execute_result"
    }
   ],
   "source": [
    "data.head()"
   ]
  },
  {
   "cell_type": "markdown",
   "metadata": {},
   "source": [
    "#### Splitting dataset into target and independent vars "
   ]
  },
  {
   "cell_type": "code",
   "execution_count": 35,
   "metadata": {},
   "outputs": [],
   "source": [
    "X = data[['saf_tot_11', 'com_tot_11', 'eng_tot_11', 'aca_tot_11', 'income_inequality']]\n",
    "y = data.prog_grade\n",
    "         "
   ]
  },
  {
   "cell_type": "markdown",
   "metadata": {},
   "source": [
    "#### Looking at distribution of numeric columns "
   ]
  },
  {
   "cell_type": "code",
   "execution_count": 36,
   "metadata": {},
   "outputs": [
    {
     "data": {
      "text/plain": [
       "array([[<matplotlib.axes._subplots.AxesSubplot object at 0x1292896a0>,\n",
       "        <matplotlib.axes._subplots.AxesSubplot object at 0x12ab7ea90>],\n",
       "       [<matplotlib.axes._subplots.AxesSubplot object at 0x12c42a160>,\n",
       "        <matplotlib.axes._subplots.AxesSubplot object at 0x12c4497f0>],\n",
       "       [<matplotlib.axes._subplots.AxesSubplot object at 0x12c469e80>,\n",
       "        <matplotlib.axes._subplots.AxesSubplot object at 0x12c469eb8>]],\n",
       "      dtype=object)"
      ]
     },
     "execution_count": 36,
     "metadata": {},
     "output_type": "execute_result"
    },
    {
     "data": {
      "image/png": "[encoded data removed]",
      "text/plain": [
       "<Figure size 864x576 with 6 Axes>"
      ]
     },
     "metadata": {
      "needs_background": "light"
     },
     "output_type": "display_data"
    }
   ],
   "source": [
    "X.hist(figsize=(12,8), color='black', zorder=2, rwidth=0.9)"
   ]
  },
  {
   "cell_type": "markdown",
   "metadata": {},
   "source": [
    "The columns are not normally distributed so they need to be normalized"
   ]
  },
  {
   "cell_type": "markdown",
   "metadata": {},
   "source": [
    "#### Splitting data in training and test set "
   ]
  },
  {
   "cell_type": "code",
   "execution_count": 37,
   "metadata": {},
   "outputs": [],
   "source": [
    "Xtrain, Xtest, ytrain, ytest = train_test_split(X, y, random_state=1)\n"
   ]
  },
  {
   "cell_type": "markdown",
   "metadata": {},
   "source": [
    "#### Running linear regression model"
   ]
  },
  {
   "cell_type": "code",
   "execution_count": 38,
   "metadata": {},
   "outputs": [
    {
     "data": {
      "text/plain": [
       "LinearRegression(copy_X=True, fit_intercept=True, n_jobs=None, normalize=True)"
      ]
     },
     "execution_count": 38,
     "metadata": {},
     "output_type": "execute_result"
    }
   ],
   "source": [
    "#the independent variables are skewed so they need to be \n",
    "#  normalized to run the linear regresson. \n",
    "model = LinearRegression(fit_intercept=True, normalize = True)\n",
    "model"
   ]
  },
  {
   "cell_type": "code",
   "execution_count": 39,
   "metadata": {},
   "outputs": [
    {
     "data": {
      "text/plain": [
       "LinearRegression(copy_X=True, fit_intercept=True, n_jobs=None, normalize=True)"
      ]
     },
     "execution_count": 39,
     "metadata": {},
     "output_type": "execute_result"
    }
   ],
   "source": [
    "#fitting linear regression model\n",
    "model.fit(Xtrain, ytrain)"
   ]
  },
  {
   "cell_type": "code",
   "execution_count": 40,
   "metadata": {},
   "outputs": [
    {
     "data": {
      "text/plain": [
       "0.08714658474709891"
      ]
     },
     "execution_count": 40,
     "metadata": {},
     "output_type": "execute_result"
    }
   ],
   "source": [
    "# assessing model fit otn training data\n",
    "model.score(Xtrain, ytrain)"
   ]
  },
  {
   "cell_type": "code",
   "execution_count": 41,
   "metadata": {},
   "outputs": [
    {
     "data": {
      "text/plain": [
       "0.05674587432345157"
      ]
     },
     "execution_count": 41,
     "metadata": {},
     "output_type": "execute_result"
    }
   ],
   "source": [
    "#assessing the model fit\n",
    "model.score(Xtest, ytest)"
   ]
  },
  {
   "cell_type": "code",
   "execution_count": 42,
   "metadata": {},
   "outputs": [
    {
     "data": {
      "text/html": [
       "<div>\n",
       "<style scoped>\n",
       "    .dataframe tbody tr th:only-of-type {\n",
       "        vertical-align: middle;\n",
       "    }\n",
       "\n",
       "    .dataframe tbody tr th {\n",
       "        vertical-align: top;\n",
       "    }\n",
       "\n",
       "    .dataframe thead th {\n",
       "        text-align: right;\n",
       "    }\n",
       "</style>\n",
       "<table border=\"1\" class=\"dataframe\">\n",
       "  <thead>\n",
       "    <tr style=\"text-align: right;\">\n",
       "      <th></th>\n",
       "      <th>Coefficient</th>\n",
       "    </tr>\n",
       "  </thead>\n",
       "  <tbody>\n",
       "    <tr>\n",
       "      <th>saf_tot_11</th>\n",
       "      <td>-0.446871</td>\n",
       "    </tr>\n",
       "    <tr>\n",
       "      <th>com_tot_11</th>\n",
       "      <td>0.578488</td>\n",
       "    </tr>\n",
       "    <tr>\n",
       "      <th>eng_tot_11</th>\n",
       "      <td>0.387597</td>\n",
       "    </tr>\n",
       "    <tr>\n",
       "      <th>aca_tot_11</th>\n",
       "      <td>-0.986459</td>\n",
       "    </tr>\n",
       "    <tr>\n",
       "      <th>income_inequality</th>\n",
       "      <td>-0.171945</td>\n",
       "    </tr>\n",
       "  </tbody>\n",
       "</table>\n",
       "</div>"
      ],
      "text/plain": [
       "                   Coefficient\n",
       "saf_tot_11           -0.446871\n",
       "com_tot_11            0.578488\n",
       "eng_tot_11            0.387597\n",
       "aca_tot_11           -0.986459\n",
       "income_inequality    -0.171945"
      ]
     },
     "execution_count": 42,
     "metadata": {},
     "output_type": "execute_result"
    }
   ],
   "source": [
    "coeff_df = pd.DataFrame(model.coef_, X.columns, columns=['Coefficient'])  \n",
    "coeff_df"
   ]
  },
  {
   "cell_type": "code",
   "execution_count": 43,
   "metadata": {},
   "outputs": [],
   "source": [
    "#generating predictions\n",
    "ypred = model.predict(Xtest)"
   ]
  },
  {
   "cell_type": "code",
   "execution_count": 44,
   "metadata": {},
   "outputs": [
    {
     "data": {
      "text/html": [
       "<div>\n",
       "<style scoped>\n",
       "    .dataframe tbody tr th:only-of-type {\n",
       "        vertical-align: middle;\n",
       "    }\n",
       "\n",
       "    .dataframe tbody tr th {\n",
       "        vertical-align: top;\n",
       "    }\n",
       "\n",
       "    .dataframe thead th {\n",
       "        text-align: right;\n",
       "    }\n",
       "</style>\n",
       "<table border=\"1\" class=\"dataframe\">\n",
       "  <thead>\n",
       "    <tr style=\"text-align: right;\">\n",
       "      <th></th>\n",
       "      <th>Actual</th>\n",
       "      <th>Predicted</th>\n",
       "    </tr>\n",
       "  </thead>\n",
       "  <tbody>\n",
       "    <tr>\n",
       "      <th>934</th>\n",
       "      <td>2.0</td>\n",
       "      <td>1.726429</td>\n",
       "    </tr>\n",
       "    <tr>\n",
       "      <th>120</th>\n",
       "      <td>0.0</td>\n",
       "      <td>1.474557</td>\n",
       "    </tr>\n",
       "    <tr>\n",
       "      <th>694</th>\n",
       "      <td>1.0</td>\n",
       "      <td>1.867508</td>\n",
       "    </tr>\n",
       "    <tr>\n",
       "      <th>965</th>\n",
       "      <td>2.0</td>\n",
       "      <td>1.291804</td>\n",
       "    </tr>\n",
       "    <tr>\n",
       "      <th>1101</th>\n",
       "      <td>1.0</td>\n",
       "      <td>0.878977</td>\n",
       "    </tr>\n",
       "    <tr>\n",
       "      <th>1113</th>\n",
       "      <td>2.0</td>\n",
       "      <td>1.313051</td>\n",
       "    </tr>\n",
       "    <tr>\n",
       "      <th>135</th>\n",
       "      <td>2.0</td>\n",
       "      <td>1.511078</td>\n",
       "    </tr>\n",
       "    <tr>\n",
       "      <th>395</th>\n",
       "      <td>4.0</td>\n",
       "      <td>2.112061</td>\n",
       "    </tr>\n",
       "    <tr>\n",
       "      <th>194</th>\n",
       "      <td>3.0</td>\n",
       "      <td>1.736619</td>\n",
       "    </tr>\n",
       "    <tr>\n",
       "      <th>997</th>\n",
       "      <td>2.0</td>\n",
       "      <td>1.126364</td>\n",
       "    </tr>\n",
       "  </tbody>\n",
       "</table>\n",
       "</div>"
      ],
      "text/plain": [
       "      Actual  Predicted\n",
       "934      2.0   1.726429\n",
       "120      0.0   1.474557\n",
       "694      1.0   1.867508\n",
       "965      2.0   1.291804\n",
       "1101     1.0   0.878977\n",
       "1113     2.0   1.313051\n",
       "135      2.0   1.511078\n",
       "395      4.0   2.112061\n",
       "194      3.0   1.736619\n",
       "997      2.0   1.126364"
      ]
     },
     "execution_count": 44,
     "metadata": {},
     "output_type": "execute_result"
    }
   ],
   "source": [
    "predictions = pd.DataFrame({'Actual': ytest, 'Predicted': ypred})\n",
    "predictions = predictions.head(10)\n",
    "predictions"
   ]
  },
  {
   "cell_type": "code",
   "execution_count": 45,
   "metadata": {},
   "outputs": [
    {
     "name": "stdout",
     "output_type": "stream",
     "text": [
      "Root Mean squared error: 1.11\n",
      "Coefficient of determination: 0.06\n"
     ]
    }
   ],
   "source": [
    "# The mean squared error\n",
    "print('Root Mean squared error: %.2f'\n",
    "      % np.sqrt(mean_squared_error(ytest, ypred)))\n",
    "\n",
    "# The coefficient of determination: 1 is perfect prediction\n",
    "print('Coefficient of determination: %.2f' % r2_score(ytest, ypred))"
   ]
  },
  {
   "cell_type": "markdown",
   "metadata": {},
   "source": [
    "This linear regression clearly does not produce good results."
   ]
  },
  {
   "cell_type": "markdown",
   "metadata": {},
   "source": [
    "#### Running KNN"
   ]
  },
  {
   "cell_type": "code",
   "execution_count": 46,
   "metadata": {},
   "outputs": [
    {
     "data": {
      "text/plain": [
       "KNeighborsClassifier(algorithm='auto', leaf_size=30, metric='minkowski',\n",
       "                     metric_params=None, n_jobs=None, n_neighbors=10, p=2,\n",
       "                     weights='uniform')"
      ]
     },
     "execution_count": 46,
     "metadata": {},
     "output_type": "execute_result"
    }
   ],
   "source": [
    "knn = KNeighborsClassifier(n_neighbors=10)\n",
    "knn.fit(Xtrain, ytrain)"
   ]
  },
  {
   "cell_type": "code",
   "execution_count": 47,
   "metadata": {},
   "outputs": [],
   "source": [
    "#examining validation curve\n",
    "prior_set = range(1,15)\n",
    "train_scores, test_scores = validation_curve(knn, Xtrain, ytrain, param_name='n_neighbors',\n",
    "                                            param_range=prior_set, cv=10)"
   ]
  },
  {
   "cell_type": "code",
   "execution_count": 48,
   "metadata": {},
   "outputs": [],
   "source": [
    "train_mean = np.mean(train_scores, axis=1)\n",
    "test_mean = np.mean(test_scores, axis=1)"
   ]
  },
  {
   "cell_type": "code",
   "execution_count": 49,
   "metadata": {},
   "outputs": [
    {
     "data": {
      "image/png": "[encoded data removed]",
      "text/plain": [
       "<Figure size 432x288 with 1 Axes>"
      ]
     },
     "metadata": {
      "needs_background": "light"
     },
     "output_type": "display_data"
    }
   ],
   "source": [
    "pos_class = range(1,15)\n",
    "fig1 = plt.figure()\n",
    "plt.plot(pos_class, train_mean, label='Train')\n",
    "plt.plot(pos_class, test_mean, label='Test')\n",
    "plt.xlabel('k')\n",
    "plt.ylabel('Score')\n",
    "plt.title('KNN Validation Curve')\n",
    "plt.legend()\n",
    "plt.show()"
   ]
  },
  {
   "cell_type": "code",
   "execution_count": 50,
   "metadata": {},
   "outputs": [
    {
     "data": {
      "text/plain": [
       "KNeighborsClassifier(algorithm='auto', leaf_size=30, metric='minkowski',\n",
       "                     metric_params=None, n_jobs=None, n_neighbors=5, p=2,\n",
       "                     weights='uniform')"
      ]
     },
     "execution_count": 50,
     "metadata": {},
     "output_type": "execute_result"
    }
   ],
   "source": [
    "#trying KNN with 5 groups\n",
    "knn = KNeighborsClassifier(n_neighbors=5)\n",
    "knn.fit(Xtrain, ytrain)"
   ]
  },
  {
   "cell_type": "code",
   "execution_count": 51,
   "metadata": {},
   "outputs": [
    {
     "data": {
      "text/plain": [
       "0.3413793103448276"
      ]
     },
     "execution_count": 51,
     "metadata": {},
     "output_type": "execute_result"
    }
   ],
   "source": [
    "# Model validation\n",
    "scores = cross_val_score(knn, Xtest, ytest, cv = 5,scoring='accuracy')\n",
    "scores.mean()"
   ]
  },
  {
   "cell_type": "markdown",
   "metadata": {},
   "source": [
    "However, this does not produce very good results so I will try with a different number of groups. "
   ]
  },
  {
   "cell_type": "code",
   "execution_count": 52,
   "metadata": {},
   "outputs": [
    {
     "data": {
      "text/plain": [
       "KNeighborsClassifier(algorithm='auto', leaf_size=30, metric='minkowski',\n",
       "                     metric_params=None, n_jobs=None, n_neighbors=9, p=2,\n",
       "                     weights='uniform')"
      ]
     },
     "execution_count": 52,
     "metadata": {},
     "output_type": "execute_result"
    }
   ],
   "source": [
    "knn = KNeighborsClassifier(n_neighbors=9)\n",
    "knn.fit(Xtrain,ytrain)"
   ]
  },
  {
   "cell_type": "code",
   "execution_count": 53,
   "metadata": {},
   "outputs": [
    {
     "data": {
      "text/plain": [
       "0.3655913978494624"
      ]
     },
     "execution_count": 53,
     "metadata": {},
     "output_type": "execute_result"
    }
   ],
   "source": [
    "# Model validation\n",
    "scores = cross_val_score(knn, Xtest, ytest, cv = 9, scoring='accuracy')\n",
    "scores.mean()"
   ]
  },
  {
   "cell_type": "markdown",
   "metadata": {},
   "source": [
    "With neighbors equal to 11 gives a better validation score. "
   ]
  },
  {
   "cell_type": "code",
   "execution_count": 54,
   "metadata": {},
   "outputs": [],
   "source": [
    "#getting prediction to make confusion matrix\n",
    "knn_y_pred = knn.predict(Xtest)"
   ]
  },
  {
   "cell_type": "code",
   "execution_count": 55,
   "metadata": {},
   "outputs": [
    {
     "name": "stdout",
     "output_type": "stream",
     "text": [
      "[[17 27 13  1  0]\n",
      " [13 50 21  1  0]\n",
      " [21 45 31  0  1]\n",
      " [12  5  5  0  0]\n",
      " [ 9  5 10  0  0]]\n",
      "              precision    recall  f1-score   support\n",
      "\n",
      "         0.0       0.24      0.29      0.26        58\n",
      "         1.0       0.38      0.59      0.46        85\n",
      "         2.0       0.39      0.32      0.35        98\n",
      "         3.0       0.00      0.00      0.00        22\n",
      "         4.0       0.00      0.00      0.00        24\n",
      "\n",
      "    accuracy                           0.34       287\n",
      "   macro avg       0.20      0.24      0.21       287\n",
      "weighted avg       0.29      0.34      0.31       287\n",
      "\n"
     ]
    }
   ],
   "source": [
    "print(confusion_matrix(ytest, knn_y_pred))\n",
    "print(classification_report(ytest, knn_y_pred))"
   ]
  },
  {
   "cell_type": "code",
   "execution_count": 56,
   "metadata": {},
   "outputs": [
    {
     "name": "stdout",
     "output_type": "stream",
     "text": [
      "Accuracy: 0.34146341463414637\n"
     ]
    }
   ],
   "source": [
    "print(\"Accuracy:\",metrics.accuracy_score(ytest, knn_y_pred))"
   ]
  },
  {
   "cell_type": "code",
   "execution_count": null,
   "metadata": {},
   "outputs": [],
   "source": []
  },
  {
   "cell_type": "code",
   "execution_count": null,
   "metadata": {},
   "outputs": [],
   "source": []
  }
 ],
 "metadata": {
  "kernelspec": {
   "display_name": "Python 3",
   "language": "python",
   "name": "python3"
  },
  "language_info": {
   "codemirror_mode": {
    "name": "ipython",
    "version": 3
   },
   "file_extension": ".py",
   "mimetype": "text/x-python",
   "name": "python",
   "nbconvert_exporter": "python",
   "pygments_lexer": "ipython3",
   "version": "3.7.0"
  }
 },
 "nbformat": 4,
 "nbformat_minor": 2
}
